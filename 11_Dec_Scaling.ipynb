{
  "nbformat": 4,
  "nbformat_minor": 0,
  "metadata": {
    "colab": {
      "name": "11 Dec Scaling.ipynb",
      "provenance": [],
      "include_colab_link": true
    },
    "kernelspec": {
      "name": "python3",
      "display_name": "Python 3"
    },
    "language_info": {
      "name": "python"
    }
  },
  "cells": [
    {
      "cell_type": "markdown",
      "metadata": {
        "id": "view-in-github",
        "colab_type": "text"
      },
      "source": [
        "<a href=\"https://colab.research.google.com/github/krameshdn/Dataset/blob/main/11_Dec_Scaling.ipynb\" target=\"_parent\"><img src=\"https://colab.research.google.com/assets/colab-badge.svg\" alt=\"Open In Colab\"/></a>"
      ]
    },
    {
      "cell_type": "markdown",
      "source": [
        "Why do we need scaling\n",
        "Unit and magnitude\n",
        "If a feature’s variance is orders of magnitude more than the variance of other features, that particular feature might dominate other features in the dataset, which is not something we want happening in our model.\n",
        "\n",
        "Most of the times, your dataset will contain features highly varying in magnitudes, units and range. But since, most of the machine learning algorithms use Eucledian distance between two data points in their computations, this is a problem.\n",
        "\n",
        "compare age and salary\n",
        "\n",
        "age salary \n",
        "44 90000\n",
        " 36  55000 \n",
        " 37 60000 \n",
        " 25 40000 \n",
        " 58 300000\n",
        "\n",
        "Impact of salary is more, Salary dominates the age\n",
        "\n",
        "used in\n",
        "\n",
        "Euclidean distance - KNN, Knearst neighbours, neural networks, kmeans clustering\n",
        "Gradient descent - a parabola - Global minima - Linear regression - faster convergence\n",
        "\n",
        "No impact\n",
        "\n",
        "Decision trees (classification)\n",
        "Random forest\n",
        "Linear Discriminant , Naive Bayes\n",
        "Scaling will fasten the process\n",
        "\n",
        "\n",
        "\n",
        "```\n",
        "# This is formatted as code\n",
        "```\n",
        "Scalars\n",
        " - Standard Scalar\n",
        "  - MinMax Scalar\n",
        "  -Robust Scalar\n",
        "Normalizer\n"
      ],
      "metadata": {
        "id": "XgB7gRNKj9qh"
      }
    },
    {
      "cell_type": "code",
      "source": [
        "import pandas as pd\n",
        "import numpy as np\n",
        "import matplotlib.pyplot as plt\n",
        "import seaborn as sb\n",
        "%matplotlib inline\n",
        "import warnings\n",
        "warnings.filterwarnings(\"ignore\")"
      ],
      "metadata": {
        "id": "hqxkBvFikAhm"
      },
      "execution_count": null,
      "outputs": []
    },
    {
      "cell_type": "code",
      "source": [
        "data=pd.read_csv('https://raw.githubusercontent.com/tkseneee/Dataset/master/k_circle_sales.csv')"
      ],
      "metadata": {
        "id": "56rEh-q_kI0o"
      },
      "execution_count": null,
      "outputs": []
    },
    {
      "cell_type": "code",
      "source": [
        "#Bigmart sales"
      ],
      "metadata": {
        "id": "IZBv6_8nkK5A"
      },
      "execution_count": null,
      "outputs": []
    },
    {
      "cell_type": "code",
      "source": [
        "#z- score\n",
        "#x_scale = (x-mean)/Standard deviation\n"
      ],
      "metadata": {
        "id": "Z53AN3Hvs8Zf"
      },
      "execution_count": null,
      "outputs": []
    },
    {
      "cell_type": "code",
      "source": [
        "data.describe()"
      ],
      "metadata": {
        "colab": {
          "base_uri": "https://localhost:8080/",
          "height": 300
        },
        "id": "lSALR-sStWoF",
        "outputId": "f680ba6c-86a7-4c1f-9e88-1e4ead03f62b"
      },
      "execution_count": null,
      "outputs": [
        {
          "output_type": "execute_result",
          "data": {
            "text/html": [
              "<div>\n",
              "<style scoped>\n",
              "    .dataframe tbody tr th:only-of-type {\n",
              "        vertical-align: middle;\n",
              "    }\n",
              "\n",
              "    .dataframe tbody tr th {\n",
              "        vertical-align: top;\n",
              "    }\n",
              "\n",
              "    .dataframe thead th {\n",
              "        text-align: right;\n",
              "    }\n",
              "</style>\n",
              "<table border=\"1\" class=\"dataframe\">\n",
              "  <thead>\n",
              "    <tr style=\"text-align: right;\">\n",
              "      <th></th>\n",
              "      <th>Item_Weight</th>\n",
              "      <th>Item_Visibility</th>\n",
              "      <th>Item_MRP</th>\n",
              "      <th>Outlet_Establishment_Year</th>\n",
              "      <th>Item_Outlet_Sales</th>\n",
              "      <th>Profit</th>\n",
              "    </tr>\n",
              "  </thead>\n",
              "  <tbody>\n",
              "    <tr>\n",
              "      <th>count</th>\n",
              "      <td>7774.000000</td>\n",
              "      <td>8523.000000</td>\n",
              "      <td>8523.000000</td>\n",
              "      <td>8523.000000</td>\n",
              "      <td>8523.000000</td>\n",
              "      <td>8523.000000</td>\n",
              "    </tr>\n",
              "    <tr>\n",
              "      <th>mean</th>\n",
              "      <td>11.676740</td>\n",
              "      <td>0.066132</td>\n",
              "      <td>140.998838</td>\n",
              "      <td>1997.831867</td>\n",
              "      <td>2181.288914</td>\n",
              "      <td>13.414514</td>\n",
              "    </tr>\n",
              "    <tr>\n",
              "      <th>std</th>\n",
              "      <td>5.776851</td>\n",
              "      <td>0.051598</td>\n",
              "      <td>62.258099</td>\n",
              "      <td>8.371760</td>\n",
              "      <td>1706.499616</td>\n",
              "      <td>1.701840</td>\n",
              "    </tr>\n",
              "    <tr>\n",
              "      <th>min</th>\n",
              "      <td>0.000000</td>\n",
              "      <td>0.000000</td>\n",
              "      <td>31.300000</td>\n",
              "      <td>1985.000000</td>\n",
              "      <td>33.290000</td>\n",
              "      <td>0.100000</td>\n",
              "    </tr>\n",
              "    <tr>\n",
              "      <th>25%</th>\n",
              "      <td>7.720000</td>\n",
              "      <td>0.026989</td>\n",
              "      <td>93.800000</td>\n",
              "      <td>1987.000000</td>\n",
              "      <td>834.247400</td>\n",
              "      <td>13.150000</td>\n",
              "    </tr>\n",
              "    <tr>\n",
              "      <th>50%</th>\n",
              "      <td>11.800000</td>\n",
              "      <td>0.053931</td>\n",
              "      <td>142.700000</td>\n",
              "      <td>1999.000000</td>\n",
              "      <td>1794.331000</td>\n",
              "      <td>13.900000</td>\n",
              "    </tr>\n",
              "    <tr>\n",
              "      <th>75%</th>\n",
              "      <td>16.500000</td>\n",
              "      <td>0.094585</td>\n",
              "      <td>185.650000</td>\n",
              "      <td>2004.000000</td>\n",
              "      <td>3101.296400</td>\n",
              "      <td>14.300000</td>\n",
              "    </tr>\n",
              "    <tr>\n",
              "      <th>max</th>\n",
              "      <td>21.350000</td>\n",
              "      <td>0.328391</td>\n",
              "      <td>266.900000</td>\n",
              "      <td>2009.000000</td>\n",
              "      <td>13086.964800</td>\n",
              "      <td>24.000000</td>\n",
              "    </tr>\n",
              "  </tbody>\n",
              "</table>\n",
              "</div>"
            ],
            "text/plain": [
              "       Item_Weight  Item_Visibility  ...  Item_Outlet_Sales       Profit\n",
              "count  7774.000000      8523.000000  ...        8523.000000  8523.000000\n",
              "mean     11.676740         0.066132  ...        2181.288914    13.414514\n",
              "std       5.776851         0.051598  ...        1706.499616     1.701840\n",
              "min       0.000000         0.000000  ...          33.290000     0.100000\n",
              "25%       7.720000         0.026989  ...         834.247400    13.150000\n",
              "50%      11.800000         0.053931  ...        1794.331000    13.900000\n",
              "75%      16.500000         0.094585  ...        3101.296400    14.300000\n",
              "max      21.350000         0.328391  ...       13086.964800    24.000000\n",
              "\n",
              "[8 rows x 6 columns]"
            ]
          },
          "metadata": {},
          "execution_count": 59
        }
      ]
    },
    {
      "cell_type": "code",
      "source": [
        "num_data=data.select_dtypes(include=np.number)"
      ],
      "metadata": {
        "id": "d32ASdwvtiPa"
      },
      "execution_count": null,
      "outputs": []
    },
    {
      "cell_type": "code",
      "source": [
        "num_data.isnull().sum()"
      ],
      "metadata": {
        "colab": {
          "base_uri": "https://localhost:8080/"
        },
        "id": "dRp-K5p7trdJ",
        "outputId": "81bae698-6202-45b8-a673-37bedbc72aa0"
      },
      "execution_count": null,
      "outputs": [
        {
          "output_type": "execute_result",
          "data": {
            "text/plain": [
              "Item_Weight                  749\n",
              "Item_Visibility                0\n",
              "Item_MRP                       0\n",
              "Outlet_Establishment_Year      0\n",
              "Item_Outlet_Sales              0\n",
              "Profit                         0\n",
              "dtype: int64"
            ]
          },
          "metadata": {},
          "execution_count": 61
        }
      ]
    },
    {
      "cell_type": "code",
      "source": [
        "num_data['Item_Weight']=num_data['Item_Weight'].fillna(num_data['Item_Weight'].mean())"
      ],
      "metadata": {
        "id": "PWNSeQFct5aP"
      },
      "execution_count": null,
      "outputs": []
    },
    {
      "cell_type": "code",
      "source": [
        "num_data.isnull().sum()"
      ],
      "metadata": {
        "colab": {
          "base_uri": "https://localhost:8080/"
        },
        "id": "PYYKdchjuIxM",
        "outputId": "c6caafa6-68bc-465b-dd76-03c76179b726"
      },
      "execution_count": null,
      "outputs": [
        {
          "output_type": "execute_result",
          "data": {
            "text/plain": [
              "Item_Weight                  0\n",
              "Item_Visibility              0\n",
              "Item_MRP                     0\n",
              "Outlet_Establishment_Year    0\n",
              "Item_Outlet_Sales            0\n",
              "Profit                       0\n",
              "dtype: int64"
            ]
          },
          "metadata": {},
          "execution_count": 63
        }
      ]
    },
    {
      "cell_type": "code",
      "source": [
        "num_data.max()-num_data.min()"
      ],
      "metadata": {
        "colab": {
          "base_uri": "https://localhost:8080/"
        },
        "id": "01wpyBnSuOj0",
        "outputId": "8cf42a48-114d-4caf-b447-fe20a5ba6f99"
      },
      "execution_count": null,
      "outputs": [
        {
          "output_type": "execute_result",
          "data": {
            "text/plain": [
              "Item_Weight                     21.350000\n",
              "Item_Visibility                  0.328391\n",
              "Item_MRP                       235.600000\n",
              "Outlet_Establishment_Year       24.000000\n",
              "Item_Outlet_Sales            13053.674800\n",
              "Profit                          23.900000\n",
              "dtype: float64"
            ]
          },
          "metadata": {},
          "execution_count": 64
        }
      ]
    },
    {
      "cell_type": "markdown",
      "source": [
        "STANDARD SCALAR - STANDARDIZATION\n",
        "X  = (X - MEAN) / STD"
      ],
      "metadata": {
        "id": "r2edNStjvONh"
      }
    },
    {
      "cell_type": "code",
      "source": [
        "Item_outlet_sales_sc=(num_data['Item_Outlet_Sales'] - num_data['Item_Outlet_Sales'].mean())/num_data['Item_Outlet_Sales'].std()"
      ],
      "metadata": {
        "id": "HIsbZPGtvIZs"
      },
      "execution_count": null,
      "outputs": []
    },
    {
      "cell_type": "code",
      "source": [
        "Item_outlet_sales_sc"
      ],
      "metadata": {
        "colab": {
          "base_uri": "https://localhost:8080/"
        },
        "id": "IYoqM1C6vtcO",
        "outputId": "c40eb43e-d9e8-49fa-be95-359d4c088a7a"
      },
      "execution_count": null,
      "outputs": [
        {
          "output_type": "execute_result",
          "data": {
            "text/plain": [
              "0       0.910548\n",
              "1      -1.018381\n",
              "2      -0.049235\n",
              "3      -0.849053\n",
              "4      -0.695332\n",
              "          ...   \n",
              "8518    0.349894\n",
              "8519   -0.956346\n",
              "8520   -0.579066\n",
              "8521   -0.196713\n",
              "8522   -0.829545\n",
              "Name: Item_Outlet_Sales, Length: 8523, dtype: float64"
            ]
          },
          "metadata": {},
          "execution_count": 66
        }
      ]
    },
    {
      "cell_type": "code",
      "source": [
        "Item_outlet_sales_sc.describe()"
      ],
      "metadata": {
        "colab": {
          "base_uri": "https://localhost:8080/"
        },
        "id": "x9IFj-6Vv7W8",
        "outputId": "0e3c7198-ed38-4644-d65c-8c97216554b9"
      },
      "execution_count": null,
      "outputs": [
        {
          "output_type": "execute_result",
          "data": {
            "text/plain": [
              "count    8.523000e+03\n",
              "mean    -2.514929e-15\n",
              "std      1.000000e+00\n",
              "min     -1.258716e+00\n",
              "25%     -7.893594e-01\n",
              "50%     -2.267553e-01\n",
              "75%      5.391197e-01\n",
              "max      6.390670e+00\n",
              "Name: Item_Outlet_Sales, dtype: float64"
            ]
          },
          "metadata": {},
          "execution_count": 67
        }
      ]
    },
    {
      "cell_type": "code",
      "source": [
        "round(Item_outlet_sales_sc.mean(),2)"
      ],
      "metadata": {
        "colab": {
          "base_uri": "https://localhost:8080/"
        },
        "id": "-9pd_-qUwKNI",
        "outputId": "654360c9-7db1-4cac-a052-413074496620"
      },
      "execution_count": null,
      "outputs": [
        {
          "output_type": "execute_result",
          "data": {
            "text/plain": [
              "-0.0"
            ]
          },
          "metadata": {},
          "execution_count": 68
        }
      ]
    },
    {
      "cell_type": "code",
      "source": [
        "num_data_stdsc=num_data"
      ],
      "metadata": {
        "id": "XwFvZi8cxf_U"
      },
      "execution_count": null,
      "outputs": []
    },
    {
      "cell_type": "code",
      "source": [
        "for i in num_data.columns:\n",
        "  num_data_stdsc[i]=(num_data[i] - num_data[i].mean())/num_data[i].std()"
      ],
      "metadata": {
        "id": "h9erwneWx8Pv"
      },
      "execution_count": null,
      "outputs": []
    },
    {
      "cell_type": "code",
      "source": [
        "num_data_stdsc.describe()"
      ],
      "metadata": {
        "colab": {
          "base_uri": "https://localhost:8080/",
          "height": 300
        },
        "id": "yjYkS32NyQr-",
        "outputId": "be2e36a4-7cf4-4939-d402-4fc17540dc07"
      },
      "execution_count": null,
      "outputs": [
        {
          "output_type": "execute_result",
          "data": {
            "text/html": [
              "<div>\n",
              "<style scoped>\n",
              "    .dataframe tbody tr th:only-of-type {\n",
              "        vertical-align: middle;\n",
              "    }\n",
              "\n",
              "    .dataframe tbody tr th {\n",
              "        vertical-align: top;\n",
              "    }\n",
              "\n",
              "    .dataframe thead th {\n",
              "        text-align: right;\n",
              "    }\n",
              "</style>\n",
              "<table border=\"1\" class=\"dataframe\">\n",
              "  <thead>\n",
              "    <tr style=\"text-align: right;\">\n",
              "      <th></th>\n",
              "      <th>Item_Weight</th>\n",
              "      <th>Item_Visibility</th>\n",
              "      <th>Item_MRP</th>\n",
              "      <th>Outlet_Establishment_Year</th>\n",
              "      <th>Item_Outlet_Sales</th>\n",
              "      <th>Profit</th>\n",
              "    </tr>\n",
              "  </thead>\n",
              "  <tbody>\n",
              "    <tr>\n",
              "      <th>count</th>\n",
              "      <td>8.523000e+03</td>\n",
              "      <td>8.523000e+03</td>\n",
              "      <td>8.523000e+03</td>\n",
              "      <td>8.523000e+03</td>\n",
              "      <td>8.523000e+03</td>\n",
              "      <td>8.523000e+03</td>\n",
              "    </tr>\n",
              "    <tr>\n",
              "      <th>mean</th>\n",
              "      <td>-8.300583e-14</td>\n",
              "      <td>-3.903653e-15</td>\n",
              "      <td>-6.351784e-15</td>\n",
              "      <td>1.175638e-14</td>\n",
              "      <td>-2.514929e-15</td>\n",
              "      <td>-2.362712e-14</td>\n",
              "    </tr>\n",
              "    <tr>\n",
              "      <th>std</th>\n",
              "      <td>1.000000e+00</td>\n",
              "      <td>1.000000e+00</td>\n",
              "      <td>1.000000e+00</td>\n",
              "      <td>1.000000e+00</td>\n",
              "      <td>1.000000e+00</td>\n",
              "      <td>1.000000e+00</td>\n",
              "    </tr>\n",
              "    <tr>\n",
              "      <th>min</th>\n",
              "      <td>-2.116444e+00</td>\n",
              "      <td>-1.281683e+00</td>\n",
              "      <td>-1.762001e+00</td>\n",
              "      <td>-1.532756e+00</td>\n",
              "      <td>-1.258716e+00</td>\n",
              "      <td>-7.823600e+00</td>\n",
              "    </tr>\n",
              "    <tr>\n",
              "      <th>25%</th>\n",
              "      <td>-6.573576e-01</td>\n",
              "      <td>-7.586086e-01</td>\n",
              "      <td>-7.581156e-01</td>\n",
              "      <td>-1.293858e+00</td>\n",
              "      <td>-7.893594e-01</td>\n",
              "      <td>-1.554281e-01</td>\n",
              "    </tr>\n",
              "    <tr>\n",
              "      <th>50%</th>\n",
              "      <td>-5.119324e-14</td>\n",
              "      <td>-2.364653e-01</td>\n",
              "      <td>2.732434e-02</td>\n",
              "      <td>1.395326e-01</td>\n",
              "      <td>-2.267553e-01</td>\n",
              "      <td>2.852715e-01</td>\n",
              "    </tr>\n",
              "    <tr>\n",
              "      <th>75%</th>\n",
              "      <td>7.836040e-01</td>\n",
              "      <td>5.514431e-01</td>\n",
              "      <td>7.171944e-01</td>\n",
              "      <td>7.367785e-01</td>\n",
              "      <td>5.391197e-01</td>\n",
              "      <td>5.203112e-01</td>\n",
              "    </tr>\n",
              "    <tr>\n",
              "      <th>max</th>\n",
              "      <td>1.753308e+00</td>\n",
              "      <td>5.082752e+00</td>\n",
              "      <td>2.022246e+00</td>\n",
              "      <td>1.334024e+00</td>\n",
              "      <td>6.390670e+00</td>\n",
              "      <td>6.220025e+00</td>\n",
              "    </tr>\n",
              "  </tbody>\n",
              "</table>\n",
              "</div>"
            ],
            "text/plain": [
              "        Item_Weight  Item_Visibility  ...  Item_Outlet_Sales        Profit\n",
              "count  8.523000e+03     8.523000e+03  ...       8.523000e+03  8.523000e+03\n",
              "mean  -8.300583e-14    -3.903653e-15  ...      -2.514929e-15 -2.362712e-14\n",
              "std    1.000000e+00     1.000000e+00  ...       1.000000e+00  1.000000e+00\n",
              "min   -2.116444e+00    -1.281683e+00  ...      -1.258716e+00 -7.823600e+00\n",
              "25%   -6.573576e-01    -7.586086e-01  ...      -7.893594e-01 -1.554281e-01\n",
              "50%   -5.119324e-14    -2.364653e-01  ...      -2.267553e-01  2.852715e-01\n",
              "75%    7.836040e-01     5.514431e-01  ...       5.391197e-01  5.203112e-01\n",
              "max    1.753308e+00     5.082752e+00  ...       6.390670e+00  6.220025e+00\n",
              "\n",
              "[8 rows x 6 columns]"
            ]
          },
          "metadata": {},
          "execution_count": 71
        }
      ]
    },
    {
      "cell_type": "code",
      "source": [
        "#MinMax Scalar - Normalization\n",
        "# X' = X - min(X) / (Max(X) -  Min(X))"
      ],
      "metadata": {
        "id": "vLFhGg6cywf9"
      },
      "execution_count": null,
      "outputs": []
    },
    {
      "cell_type": "code",
      "source": [
        "num_data_mmsc =(num_data['Item_Outlet_Sales']-num_data['Item_Outlet_Sales'].min())/(num_data['Item_Outlet_Sales'].max()-num_data['Item_Outlet_Sales'].min())"
      ],
      "metadata": {
        "id": "pFE0dkuZzfHB"
      },
      "execution_count": null,
      "outputs": []
    },
    {
      "cell_type": "code",
      "source": [
        "num_data_mmsc.describe()"
      ],
      "metadata": {
        "colab": {
          "base_uri": "https://localhost:8080/"
        },
        "id": "q1gG5B0dzQO3",
        "outputId": "0d0795bd-c78a-4038-cd75-feb6294fbde8"
      },
      "execution_count": null,
      "outputs": [
        {
          "output_type": "execute_result",
          "data": {
            "text/plain": [
              "count    8523.000000\n",
              "mean        0.164551\n",
              "std         0.130729\n",
              "min         0.000000\n",
              "25%         0.061359\n",
              "50%         0.134908\n",
              "75%         0.235030\n",
              "max         1.000000\n",
              "Name: Item_Outlet_Sales, dtype: float64"
            ]
          },
          "metadata": {},
          "execution_count": 74
        }
      ]
    },
    {
      "cell_type": "code",
      "source": [
        "### ROBUST SCALAR\n",
        "#IQR = Q3(x) - Q1 (X)\n",
        "# X' = ( X - MEDIAN(X) ) / ( IQR)"
      ],
      "metadata": {
        "id": "uUYoJfn92NUX"
      },
      "execution_count": null,
      "outputs": []
    },
    {
      "cell_type": "code",
      "source": [
        "q1=num_data['Item_Outlet_Sales'].quantile(0.25)\n",
        "q3=num_data['Item_Outlet_Sales'].quantile(0.75)\n",
        "iqr=q3-q1\n",
        "num_data_rs= (num_data['Item_Outlet_Sales']- num_data['Item_Outlet_Sales'].median())/iqr"
      ],
      "metadata": {
        "id": "Iq81v1X13gNq"
      },
      "execution_count": null,
      "outputs": []
    },
    {
      "cell_type": "code",
      "source": [
        "num_data_rs.describe()"
      ],
      "metadata": {
        "colab": {
          "base_uri": "https://localhost:8080/"
        },
        "id": "_dPrbM5h4USO",
        "outputId": "a7d328a1-1676-4e5a-fb2b-060598e72120"
      },
      "execution_count": null,
      "outputs": [
        {
          "output_type": "execute_result",
          "data": {
            "text/plain": [
              "count    8523.000000\n",
              "mean        0.170688\n",
              "std         0.752741\n",
              "min        -0.776799\n",
              "25%        -0.423495\n",
              "50%         0.000000\n",
              "75%         0.576505\n",
              "max         4.981204\n",
              "Name: Item_Outlet_Sales, dtype: float64"
            ]
          },
          "metadata": {},
          "execution_count": 77
        }
      ]
    },
    {
      "cell_type": "code",
      "source": [
        "from sklearn.preprocessing import StandardScaler\n",
        "sc=StandardScaler()\n",
        "num_datasc=sc.fit_transform(num_data)\n",
        "num_datasc=pd.DataFrame(num_datasc,columns=num_data.columns)"
      ],
      "metadata": {
        "id": "Wry8D95H7Xlk"
      },
      "execution_count": null,
      "outputs": []
    },
    {
      "cell_type": "code",
      "source": [
        "num_datasc.head(2)"
      ],
      "metadata": {
        "colab": {
          "base_uri": "https://localhost:8080/",
          "height": 112
        },
        "id": "_a1kMeoa9Cil",
        "outputId": "fc5b358d-da39-45f4-ea3c-42058bc9b43d"
      },
      "execution_count": null,
      "outputs": [
        {
          "output_type": "execute_result",
          "data": {
            "text/html": [
              "<div>\n",
              "<style scoped>\n",
              "    .dataframe tbody tr th:only-of-type {\n",
              "        vertical-align: middle;\n",
              "    }\n",
              "\n",
              "    .dataframe tbody tr th {\n",
              "        vertical-align: top;\n",
              "    }\n",
              "\n",
              "    .dataframe thead th {\n",
              "        text-align: right;\n",
              "    }\n",
              "</style>\n",
              "<table border=\"1\" class=\"dataframe\">\n",
              "  <thead>\n",
              "    <tr style=\"text-align: right;\">\n",
              "      <th></th>\n",
              "      <th>Item_Weight</th>\n",
              "      <th>Item_Visibility</th>\n",
              "      <th>Item_MRP</th>\n",
              "      <th>Outlet_Establishment_Year</th>\n",
              "      <th>Item_Outlet_Sales</th>\n",
              "      <th>Profit</th>\n",
              "    </tr>\n",
              "  </thead>\n",
              "  <tbody>\n",
              "    <tr>\n",
              "      <th>0</th>\n",
              "      <td>-0.430817</td>\n",
              "      <td>-0.970732</td>\n",
              "      <td>1.747685</td>\n",
              "      <td>0.139541</td>\n",
              "      <td>0.910601</td>\n",
              "      <td>-1.125033</td>\n",
              "    </tr>\n",
              "    <tr>\n",
              "      <th>1</th>\n",
              "      <td>-1.043488</td>\n",
              "      <td>-0.908111</td>\n",
              "      <td>-1.489032</td>\n",
              "      <td>1.334103</td>\n",
              "      <td>-1.018440</td>\n",
              "      <td>0.520342</td>\n",
              "    </tr>\n",
              "  </tbody>\n",
              "</table>\n",
              "</div>"
            ],
            "text/plain": [
              "   Item_Weight  Item_Visibility  ...  Item_Outlet_Sales    Profit\n",
              "0    -0.430817        -0.970732  ...           0.910601 -1.125033\n",
              "1    -1.043488        -0.908111  ...          -1.018440  0.520342\n",
              "\n",
              "[2 rows x 6 columns]"
            ]
          },
          "metadata": {},
          "execution_count": 79
        }
      ]
    },
    {
      "cell_type": "code",
      "source": [
        "num_datasc.describe()"
      ],
      "metadata": {
        "colab": {
          "base_uri": "https://localhost:8080/",
          "height": 300
        },
        "id": "i7Dhu7BH9MyO",
        "outputId": "e256651f-c1b5-422a-cec6-2b5fd2b362c3"
      },
      "execution_count": null,
      "outputs": [
        {
          "output_type": "execute_result",
          "data": {
            "text/html": [
              "<div>\n",
              "<style scoped>\n",
              "    .dataframe tbody tr th:only-of-type {\n",
              "        vertical-align: middle;\n",
              "    }\n",
              "\n",
              "    .dataframe tbody tr th {\n",
              "        vertical-align: top;\n",
              "    }\n",
              "\n",
              "    .dataframe thead th {\n",
              "        text-align: right;\n",
              "    }\n",
              "</style>\n",
              "<table border=\"1\" class=\"dataframe\">\n",
              "  <thead>\n",
              "    <tr style=\"text-align: right;\">\n",
              "      <th></th>\n",
              "      <th>Item_Weight</th>\n",
              "      <th>Item_Visibility</th>\n",
              "      <th>Item_MRP</th>\n",
              "      <th>Outlet_Establishment_Year</th>\n",
              "      <th>Item_Outlet_Sales</th>\n",
              "      <th>Profit</th>\n",
              "    </tr>\n",
              "  </thead>\n",
              "  <tbody>\n",
              "    <tr>\n",
              "      <th>count</th>\n",
              "      <td>8.523000e+03</td>\n",
              "      <td>8.523000e+03</td>\n",
              "      <td>8.523000e+03</td>\n",
              "      <td>8.523000e+03</td>\n",
              "      <td>8.523000e+03</td>\n",
              "      <td>8.523000e+03</td>\n",
              "    </tr>\n",
              "    <tr>\n",
              "      <th>mean</th>\n",
              "      <td>-5.153946e-16</td>\n",
              "      <td>5.919105e-17</td>\n",
              "      <td>8.336768e-18</td>\n",
              "      <td>-1.139630e-16</td>\n",
              "      <td>1.837997e-17</td>\n",
              "      <td>-1.690801e-16</td>\n",
              "    </tr>\n",
              "    <tr>\n",
              "      <th>std</th>\n",
              "      <td>1.000059e+00</td>\n",
              "      <td>1.000059e+00</td>\n",
              "      <td>1.000059e+00</td>\n",
              "      <td>1.000059e+00</td>\n",
              "      <td>1.000059e+00</td>\n",
              "      <td>1.000059e+00</td>\n",
              "    </tr>\n",
              "    <tr>\n",
              "      <th>min</th>\n",
              "      <td>-2.116569e+00</td>\n",
              "      <td>-1.281758e+00</td>\n",
              "      <td>-1.762104e+00</td>\n",
              "      <td>-1.532846e+00</td>\n",
              "      <td>-1.258790e+00</td>\n",
              "      <td>-7.824059e+00</td>\n",
              "    </tr>\n",
              "    <tr>\n",
              "      <th>25%</th>\n",
              "      <td>-6.573961e-01</td>\n",
              "      <td>-7.586531e-01</td>\n",
              "      <td>-7.581601e-01</td>\n",
              "      <td>-1.293934e+00</td>\n",
              "      <td>-7.894057e-01</td>\n",
              "      <td>-1.554372e-01</td>\n",
              "    </tr>\n",
              "    <tr>\n",
              "      <th>50%</th>\n",
              "      <td>3.101412e-14</td>\n",
              "      <td>-2.364792e-01</td>\n",
              "      <td>2.732594e-02</td>\n",
              "      <td>1.395408e-01</td>\n",
              "      <td>-2.267687e-01</td>\n",
              "      <td>2.852882e-01</td>\n",
              "    </tr>\n",
              "    <tr>\n",
              "      <th>75%</th>\n",
              "      <td>7.836500e-01</td>\n",
              "      <td>5.514755e-01</td>\n",
              "      <td>7.172365e-01</td>\n",
              "      <td>7.368218e-01</td>\n",
              "      <td>5.391513e-01</td>\n",
              "      <td>5.203418e-01</td>\n",
              "    </tr>\n",
              "    <tr>\n",
              "      <th>max</th>\n",
              "      <td>1.753411e+00</td>\n",
              "      <td>5.083050e+00</td>\n",
              "      <td>2.022364e+00</td>\n",
              "      <td>1.334103e+00</td>\n",
              "      <td>6.391045e+00</td>\n",
              "      <td>6.220390e+00</td>\n",
              "    </tr>\n",
              "  </tbody>\n",
              "</table>\n",
              "</div>"
            ],
            "text/plain": [
              "        Item_Weight  Item_Visibility  ...  Item_Outlet_Sales        Profit\n",
              "count  8.523000e+03     8.523000e+03  ...       8.523000e+03  8.523000e+03\n",
              "mean  -5.153946e-16     5.919105e-17  ...       1.837997e-17 -1.690801e-16\n",
              "std    1.000059e+00     1.000059e+00  ...       1.000059e+00  1.000059e+00\n",
              "min   -2.116569e+00    -1.281758e+00  ...      -1.258790e+00 -7.824059e+00\n",
              "25%   -6.573961e-01    -7.586531e-01  ...      -7.894057e-01 -1.554372e-01\n",
              "50%    3.101412e-14    -2.364792e-01  ...      -2.267687e-01  2.852882e-01\n",
              "75%    7.836500e-01     5.514755e-01  ...       5.391513e-01  5.203418e-01\n",
              "max    1.753411e+00     5.083050e+00  ...       6.391045e+00  6.220390e+00\n",
              "\n",
              "[8 rows x 6 columns]"
            ]
          },
          "metadata": {},
          "execution_count": 80
        }
      ]
    },
    {
      "cell_type": "code",
      "source": [
        "orginal_data=sc.inverse_transform(num_datasc)\n",
        "orginal_data=pd.DataFrame(orginal_data,columns=num_datasc.columns)"
      ],
      "metadata": {
        "id": "nVYTAmQ09b-Z"
      },
      "execution_count": null,
      "outputs": []
    },
    {
      "cell_type": "code",
      "source": [
        "orginal_data=num_data"
      ],
      "metadata": {
        "id": "TCLeqerF98B0"
      },
      "execution_count": null,
      "outputs": []
    },
    {
      "cell_type": "code",
      "source": [
        "orginal_data.head(5)"
      ],
      "metadata": {
        "colab": {
          "base_uri": "https://localhost:8080/",
          "height": 206
        },
        "id": "7LpZ1vEX-ZyO",
        "outputId": "32ad3c03-849d-499b-aeb6-3c97009f6759"
      },
      "execution_count": null,
      "outputs": [
        {
          "output_type": "execute_result",
          "data": {
            "text/html": [
              "<div>\n",
              "<style scoped>\n",
              "    .dataframe tbody tr th:only-of-type {\n",
              "        vertical-align: middle;\n",
              "    }\n",
              "\n",
              "    .dataframe tbody tr th {\n",
              "        vertical-align: top;\n",
              "    }\n",
              "\n",
              "    .dataframe thead th {\n",
              "        text-align: right;\n",
              "    }\n",
              "</style>\n",
              "<table border=\"1\" class=\"dataframe\">\n",
              "  <thead>\n",
              "    <tr style=\"text-align: right;\">\n",
              "      <th></th>\n",
              "      <th>Item_Weight</th>\n",
              "      <th>Item_Visibility</th>\n",
              "      <th>Item_MRP</th>\n",
              "      <th>Outlet_Establishment_Year</th>\n",
              "      <th>Item_Outlet_Sales</th>\n",
              "      <th>Profit</th>\n",
              "    </tr>\n",
              "  </thead>\n",
              "  <tbody>\n",
              "    <tr>\n",
              "      <th>0</th>\n",
              "      <td>-0.430791</td>\n",
              "      <td>-0.970675</td>\n",
              "      <td>1.747582</td>\n",
              "      <td>0.139533</td>\n",
              "      <td>0.910548</td>\n",
              "      <td>-1.124967</td>\n",
              "    </tr>\n",
              "    <tr>\n",
              "      <th>1</th>\n",
              "      <td>-1.043426</td>\n",
              "      <td>-0.908058</td>\n",
              "      <td>-1.488944</td>\n",
              "      <td>1.334024</td>\n",
              "      <td>-1.018381</td>\n",
              "      <td>0.520311</td>\n",
              "    </tr>\n",
              "    <tr>\n",
              "      <th>2</th>\n",
              "      <td>1.055484</td>\n",
              "      <td>-0.956861</td>\n",
              "      <td>0.009656</td>\n",
              "      <td>0.139533</td>\n",
              "      <td>-0.049235</td>\n",
              "      <td>0.637831</td>\n",
              "    </tr>\n",
              "    <tr>\n",
              "      <th>3</th>\n",
              "      <td>1.363614</td>\n",
              "      <td>-1.281683</td>\n",
              "      <td>0.660174</td>\n",
              "      <td>0.020083</td>\n",
              "      <td>-0.849053</td>\n",
              "      <td>0.108992</td>\n",
              "    </tr>\n",
              "    <tr>\n",
              "      <th>4</th>\n",
              "      <td>-0.497855</td>\n",
              "      <td>-1.281683</td>\n",
              "      <td>-1.398996</td>\n",
              "      <td>-1.293858</td>\n",
              "      <td>-0.695332</td>\n",
              "      <td>0.402791</td>\n",
              "    </tr>\n",
              "  </tbody>\n",
              "</table>\n",
              "</div>"
            ],
            "text/plain": [
              "   Item_Weight  Item_Visibility  ...  Item_Outlet_Sales    Profit\n",
              "0    -0.430791        -0.970675  ...           0.910548 -1.124967\n",
              "1    -1.043426        -0.908058  ...          -1.018381  0.520311\n",
              "2     1.055484        -0.956861  ...          -0.049235  0.637831\n",
              "3     1.363614        -1.281683  ...          -0.849053  0.108992\n",
              "4    -0.497855        -1.281683  ...          -0.695332  0.402791\n",
              "\n",
              "[5 rows x 6 columns]"
            ]
          },
          "metadata": {},
          "execution_count": 83
        }
      ]
    },
    {
      "cell_type": "code",
      "source": [
        "num_data.head(5)"
      ],
      "metadata": {
        "colab": {
          "base_uri": "https://localhost:8080/",
          "height": 206
        },
        "id": "HeNl6Hb7-iEM",
        "outputId": "6f9486bd-ca31-4ed6-c0bc-72912668d521"
      },
      "execution_count": null,
      "outputs": [
        {
          "output_type": "execute_result",
          "data": {
            "text/html": [
              "<div>\n",
              "<style scoped>\n",
              "    .dataframe tbody tr th:only-of-type {\n",
              "        vertical-align: middle;\n",
              "    }\n",
              "\n",
              "    .dataframe tbody tr th {\n",
              "        vertical-align: top;\n",
              "    }\n",
              "\n",
              "    .dataframe thead th {\n",
              "        text-align: right;\n",
              "    }\n",
              "</style>\n",
              "<table border=\"1\" class=\"dataframe\">\n",
              "  <thead>\n",
              "    <tr style=\"text-align: right;\">\n",
              "      <th></th>\n",
              "      <th>Item_Weight</th>\n",
              "      <th>Item_Visibility</th>\n",
              "      <th>Item_MRP</th>\n",
              "      <th>Outlet_Establishment_Year</th>\n",
              "      <th>Item_Outlet_Sales</th>\n",
              "      <th>Profit</th>\n",
              "    </tr>\n",
              "  </thead>\n",
              "  <tbody>\n",
              "    <tr>\n",
              "      <th>0</th>\n",
              "      <td>-0.430791</td>\n",
              "      <td>-0.970675</td>\n",
              "      <td>1.747582</td>\n",
              "      <td>0.139533</td>\n",
              "      <td>0.910548</td>\n",
              "      <td>-1.124967</td>\n",
              "    </tr>\n",
              "    <tr>\n",
              "      <th>1</th>\n",
              "      <td>-1.043426</td>\n",
              "      <td>-0.908058</td>\n",
              "      <td>-1.488944</td>\n",
              "      <td>1.334024</td>\n",
              "      <td>-1.018381</td>\n",
              "      <td>0.520311</td>\n",
              "    </tr>\n",
              "    <tr>\n",
              "      <th>2</th>\n",
              "      <td>1.055484</td>\n",
              "      <td>-0.956861</td>\n",
              "      <td>0.009656</td>\n",
              "      <td>0.139533</td>\n",
              "      <td>-0.049235</td>\n",
              "      <td>0.637831</td>\n",
              "    </tr>\n",
              "    <tr>\n",
              "      <th>3</th>\n",
              "      <td>1.363614</td>\n",
              "      <td>-1.281683</td>\n",
              "      <td>0.660174</td>\n",
              "      <td>0.020083</td>\n",
              "      <td>-0.849053</td>\n",
              "      <td>0.108992</td>\n",
              "    </tr>\n",
              "    <tr>\n",
              "      <th>4</th>\n",
              "      <td>-0.497855</td>\n",
              "      <td>-1.281683</td>\n",
              "      <td>-1.398996</td>\n",
              "      <td>-1.293858</td>\n",
              "      <td>-0.695332</td>\n",
              "      <td>0.402791</td>\n",
              "    </tr>\n",
              "  </tbody>\n",
              "</table>\n",
              "</div>"
            ],
            "text/plain": [
              "   Item_Weight  Item_Visibility  ...  Item_Outlet_Sales    Profit\n",
              "0    -0.430791        -0.970675  ...           0.910548 -1.124967\n",
              "1    -1.043426        -0.908058  ...          -1.018381  0.520311\n",
              "2     1.055484        -0.956861  ...          -0.049235  0.637831\n",
              "3     1.363614        -1.281683  ...          -0.849053  0.108992\n",
              "4    -0.497855        -1.281683  ...          -0.695332  0.402791\n",
              "\n",
              "[5 rows x 6 columns]"
            ]
          },
          "metadata": {},
          "execution_count": 84
        }
      ]
    },
    {
      "cell_type": "code",
      "source": [
        "from sklearn.preprocessing import MinMaxScaler\n",
        "mm=MinMaxScaler()\n",
        "numdata_mm=mm.fit_transform(num_data)\n",
        "num_datamm=pd.DataFrame(numdata_mm,columns=num_data.columns)\n"
      ],
      "metadata": {
        "id": "kFaJe2-U_qEy"
      },
      "execution_count": null,
      "outputs": []
    },
    {
      "cell_type": "code",
      "source": [
        "num_datamm.min()"
      ],
      "metadata": {
        "colab": {
          "base_uri": "https://localhost:8080/"
        },
        "id": "OsEB7cmmAXZ0",
        "outputId": "4ae1f63b-1bd8-4ec4-8628-ff68b2e79c02"
      },
      "execution_count": null,
      "outputs": [
        {
          "output_type": "execute_result",
          "data": {
            "text/plain": [
              "Item_Weight                  0.0\n",
              "Item_Visibility              0.0\n",
              "Item_MRP                     0.0\n",
              "Outlet_Establishment_Year    0.0\n",
              "Item_Outlet_Sales            0.0\n",
              "Profit                       0.0\n",
              "dtype: float64"
            ]
          },
          "metadata": {},
          "execution_count": 86
        }
      ]
    },
    {
      "cell_type": "code",
      "source": [
        "num_datamm.max()"
      ],
      "metadata": {
        "colab": {
          "base_uri": "https://localhost:8080/"
        },
        "id": "hcYyURJZAhjp",
        "outputId": "3853c9f0-2e68-4e9b-df24-f0647747a411"
      },
      "execution_count": null,
      "outputs": [
        {
          "output_type": "execute_result",
          "data": {
            "text/plain": [
              "Item_Weight                  1.0\n",
              "Item_Visibility              1.0\n",
              "Item_MRP                     1.0\n",
              "Outlet_Establishment_Year    1.0\n",
              "Item_Outlet_Sales            1.0\n",
              "Profit                       1.0\n",
              "dtype: float64"
            ]
          },
          "metadata": {},
          "execution_count": 87
        }
      ]
    },
    {
      "cell_type": "code",
      "source": [
        "o_data=mm.inverse_transform(num_datamm)\n",
        "o_data=pd.DataFrame(o_data,columns=num_datamm.columns)"
      ],
      "metadata": {
        "id": "0ILqkCybApKE"
      },
      "execution_count": null,
      "outputs": []
    },
    {
      "cell_type": "code",
      "source": [
        "num_data.describe()"
      ],
      "metadata": {
        "colab": {
          "base_uri": "https://localhost:8080/",
          "height": 300
        },
        "id": "u6kI-I5MBECH",
        "outputId": "e2d5b095-b4f0-46e3-8a63-a852e121ca87"
      },
      "execution_count": null,
      "outputs": [
        {
          "output_type": "execute_result",
          "data": {
            "text/html": [
              "<div>\n",
              "<style scoped>\n",
              "    .dataframe tbody tr th:only-of-type {\n",
              "        vertical-align: middle;\n",
              "    }\n",
              "\n",
              "    .dataframe tbody tr th {\n",
              "        vertical-align: top;\n",
              "    }\n",
              "\n",
              "    .dataframe thead th {\n",
              "        text-align: right;\n",
              "    }\n",
              "</style>\n",
              "<table border=\"1\" class=\"dataframe\">\n",
              "  <thead>\n",
              "    <tr style=\"text-align: right;\">\n",
              "      <th></th>\n",
              "      <th>Item_Weight</th>\n",
              "      <th>Item_Visibility</th>\n",
              "      <th>Item_MRP</th>\n",
              "      <th>Outlet_Establishment_Year</th>\n",
              "      <th>Item_Outlet_Sales</th>\n",
              "      <th>Profit</th>\n",
              "    </tr>\n",
              "  </thead>\n",
              "  <tbody>\n",
              "    <tr>\n",
              "      <th>count</th>\n",
              "      <td>8.523000e+03</td>\n",
              "      <td>8.523000e+03</td>\n",
              "      <td>8.523000e+03</td>\n",
              "      <td>8.523000e+03</td>\n",
              "      <td>8.523000e+03</td>\n",
              "      <td>8.523000e+03</td>\n",
              "    </tr>\n",
              "    <tr>\n",
              "      <th>mean</th>\n",
              "      <td>-8.300583e-14</td>\n",
              "      <td>-3.903653e-15</td>\n",
              "      <td>-6.351784e-15</td>\n",
              "      <td>1.175638e-14</td>\n",
              "      <td>-2.514929e-15</td>\n",
              "      <td>-2.362712e-14</td>\n",
              "    </tr>\n",
              "    <tr>\n",
              "      <th>std</th>\n",
              "      <td>1.000000e+00</td>\n",
              "      <td>1.000000e+00</td>\n",
              "      <td>1.000000e+00</td>\n",
              "      <td>1.000000e+00</td>\n",
              "      <td>1.000000e+00</td>\n",
              "      <td>1.000000e+00</td>\n",
              "    </tr>\n",
              "    <tr>\n",
              "      <th>min</th>\n",
              "      <td>-2.116444e+00</td>\n",
              "      <td>-1.281683e+00</td>\n",
              "      <td>-1.762001e+00</td>\n",
              "      <td>-1.532756e+00</td>\n",
              "      <td>-1.258716e+00</td>\n",
              "      <td>-7.823600e+00</td>\n",
              "    </tr>\n",
              "    <tr>\n",
              "      <th>25%</th>\n",
              "      <td>-6.573576e-01</td>\n",
              "      <td>-7.586086e-01</td>\n",
              "      <td>-7.581156e-01</td>\n",
              "      <td>-1.293858e+00</td>\n",
              "      <td>-7.893594e-01</td>\n",
              "      <td>-1.554281e-01</td>\n",
              "    </tr>\n",
              "    <tr>\n",
              "      <th>50%</th>\n",
              "      <td>-5.119324e-14</td>\n",
              "      <td>-2.364653e-01</td>\n",
              "      <td>2.732434e-02</td>\n",
              "      <td>1.395326e-01</td>\n",
              "      <td>-2.267553e-01</td>\n",
              "      <td>2.852715e-01</td>\n",
              "    </tr>\n",
              "    <tr>\n",
              "      <th>75%</th>\n",
              "      <td>7.836040e-01</td>\n",
              "      <td>5.514431e-01</td>\n",
              "      <td>7.171944e-01</td>\n",
              "      <td>7.367785e-01</td>\n",
              "      <td>5.391197e-01</td>\n",
              "      <td>5.203112e-01</td>\n",
              "    </tr>\n",
              "    <tr>\n",
              "      <th>max</th>\n",
              "      <td>1.753308e+00</td>\n",
              "      <td>5.082752e+00</td>\n",
              "      <td>2.022246e+00</td>\n",
              "      <td>1.334024e+00</td>\n",
              "      <td>6.390670e+00</td>\n",
              "      <td>6.220025e+00</td>\n",
              "    </tr>\n",
              "  </tbody>\n",
              "</table>\n",
              "</div>"
            ],
            "text/plain": [
              "        Item_Weight  Item_Visibility  ...  Item_Outlet_Sales        Profit\n",
              "count  8.523000e+03     8.523000e+03  ...       8.523000e+03  8.523000e+03\n",
              "mean  -8.300583e-14    -3.903653e-15  ...      -2.514929e-15 -2.362712e-14\n",
              "std    1.000000e+00     1.000000e+00  ...       1.000000e+00  1.000000e+00\n",
              "min   -2.116444e+00    -1.281683e+00  ...      -1.258716e+00 -7.823600e+00\n",
              "25%   -6.573576e-01    -7.586086e-01  ...      -7.893594e-01 -1.554281e-01\n",
              "50%   -5.119324e-14    -2.364653e-01  ...      -2.267553e-01  2.852715e-01\n",
              "75%    7.836040e-01     5.514431e-01  ...       5.391197e-01  5.203112e-01\n",
              "max    1.753308e+00     5.082752e+00  ...       6.390670e+00  6.220025e+00\n",
              "\n",
              "[8 rows x 6 columns]"
            ]
          },
          "metadata": {},
          "execution_count": 89
        }
      ]
    },
    {
      "cell_type": "code",
      "source": [
        "o_data.describe()"
      ],
      "metadata": {
        "colab": {
          "base_uri": "https://localhost:8080/",
          "height": 300
        },
        "id": "phaKgRGXBLks",
        "outputId": "9a1d4cce-3bf1-445f-ca37-45c35832f53e"
      },
      "execution_count": null,
      "outputs": [
        {
          "output_type": "execute_result",
          "data": {
            "text/html": [
              "<div>\n",
              "<style scoped>\n",
              "    .dataframe tbody tr th:only-of-type {\n",
              "        vertical-align: middle;\n",
              "    }\n",
              "\n",
              "    .dataframe tbody tr th {\n",
              "        vertical-align: top;\n",
              "    }\n",
              "\n",
              "    .dataframe thead th {\n",
              "        text-align: right;\n",
              "    }\n",
              "</style>\n",
              "<table border=\"1\" class=\"dataframe\">\n",
              "  <thead>\n",
              "    <tr style=\"text-align: right;\">\n",
              "      <th></th>\n",
              "      <th>Item_Weight</th>\n",
              "      <th>Item_Visibility</th>\n",
              "      <th>Item_MRP</th>\n",
              "      <th>Outlet_Establishment_Year</th>\n",
              "      <th>Item_Outlet_Sales</th>\n",
              "      <th>Profit</th>\n",
              "    </tr>\n",
              "  </thead>\n",
              "  <tbody>\n",
              "    <tr>\n",
              "      <th>count</th>\n",
              "      <td>8.523000e+03</td>\n",
              "      <td>8.523000e+03</td>\n",
              "      <td>8.523000e+03</td>\n",
              "      <td>8.523000e+03</td>\n",
              "      <td>8.523000e+03</td>\n",
              "      <td>8.523000e+03</td>\n",
              "    </tr>\n",
              "    <tr>\n",
              "      <th>mean</th>\n",
              "      <td>-8.300319e-14</td>\n",
              "      <td>-3.889350e-15</td>\n",
              "      <td>-6.349022e-15</td>\n",
              "      <td>1.173696e-14</td>\n",
              "      <td>-2.522315e-15</td>\n",
              "      <td>-2.383168e-14</td>\n",
              "    </tr>\n",
              "    <tr>\n",
              "      <th>std</th>\n",
              "      <td>1.000000e+00</td>\n",
              "      <td>1.000000e+00</td>\n",
              "      <td>1.000000e+00</td>\n",
              "      <td>1.000000e+00</td>\n",
              "      <td>1.000000e+00</td>\n",
              "      <td>1.000000e+00</td>\n",
              "    </tr>\n",
              "    <tr>\n",
              "      <th>min</th>\n",
              "      <td>-2.116444e+00</td>\n",
              "      <td>-1.281683e+00</td>\n",
              "      <td>-1.762001e+00</td>\n",
              "      <td>-1.532756e+00</td>\n",
              "      <td>-1.258716e+00</td>\n",
              "      <td>-7.823600e+00</td>\n",
              "    </tr>\n",
              "    <tr>\n",
              "      <th>25%</th>\n",
              "      <td>-6.573576e-01</td>\n",
              "      <td>-7.586086e-01</td>\n",
              "      <td>-7.581156e-01</td>\n",
              "      <td>-1.293858e+00</td>\n",
              "      <td>-7.893594e-01</td>\n",
              "      <td>-1.554281e-01</td>\n",
              "    </tr>\n",
              "    <tr>\n",
              "      <th>50%</th>\n",
              "      <td>-5.112583e-14</td>\n",
              "      <td>-2.364653e-01</td>\n",
              "      <td>2.732434e-02</td>\n",
              "      <td>1.395326e-01</td>\n",
              "      <td>-2.267553e-01</td>\n",
              "      <td>2.852715e-01</td>\n",
              "    </tr>\n",
              "    <tr>\n",
              "      <th>75%</th>\n",
              "      <td>7.836040e-01</td>\n",
              "      <td>5.514431e-01</td>\n",
              "      <td>7.171944e-01</td>\n",
              "      <td>7.367785e-01</td>\n",
              "      <td>5.391197e-01</td>\n",
              "      <td>5.203112e-01</td>\n",
              "    </tr>\n",
              "    <tr>\n",
              "      <th>max</th>\n",
              "      <td>1.753308e+00</td>\n",
              "      <td>5.082752e+00</td>\n",
              "      <td>2.022246e+00</td>\n",
              "      <td>1.334024e+00</td>\n",
              "      <td>6.390670e+00</td>\n",
              "      <td>6.220025e+00</td>\n",
              "    </tr>\n",
              "  </tbody>\n",
              "</table>\n",
              "</div>"
            ],
            "text/plain": [
              "        Item_Weight  Item_Visibility  ...  Item_Outlet_Sales        Profit\n",
              "count  8.523000e+03     8.523000e+03  ...       8.523000e+03  8.523000e+03\n",
              "mean  -8.300319e-14    -3.889350e-15  ...      -2.522315e-15 -2.383168e-14\n",
              "std    1.000000e+00     1.000000e+00  ...       1.000000e+00  1.000000e+00\n",
              "min   -2.116444e+00    -1.281683e+00  ...      -1.258716e+00 -7.823600e+00\n",
              "25%   -6.573576e-01    -7.586086e-01  ...      -7.893594e-01 -1.554281e-01\n",
              "50%   -5.112583e-14    -2.364653e-01  ...      -2.267553e-01  2.852715e-01\n",
              "75%    7.836040e-01     5.514431e-01  ...       5.391197e-01  5.203112e-01\n",
              "max    1.753308e+00     5.082752e+00  ...       6.390670e+00  6.220025e+00\n",
              "\n",
              "[8 rows x 6 columns]"
            ]
          },
          "metadata": {},
          "execution_count": 90
        }
      ]
    },
    {
      "cell_type": "code",
      "source": [
        "from sklearn.preprocessing import RobustScaler\n",
        "rs=RobustScaler()\n",
        "numdata_rs=rs.fit_transform(num_data)\n",
        "numdata_rs=pd.DataFrame(numdata_rs,columns=num_data.columns)"
      ],
      "metadata": {
        "id": "eLH0OSJTBrhU"
      },
      "execution_count": null,
      "outputs": []
    },
    {
      "cell_type": "code",
      "source": [
        "numdata_rs.describe()"
      ],
      "metadata": {
        "colab": {
          "base_uri": "https://localhost:8080/",
          "height": 300
        },
        "id": "LlTA3WjqB7ms",
        "outputId": "03632ebf-8eda-4d6b-ffde-117983a70652"
      },
      "execution_count": null,
      "outputs": [
        {
          "output_type": "execute_result",
          "data": {
            "text/html": [
              "<div>\n",
              "<style scoped>\n",
              "    .dataframe tbody tr th:only-of-type {\n",
              "        vertical-align: middle;\n",
              "    }\n",
              "\n",
              "    .dataframe tbody tr th {\n",
              "        vertical-align: top;\n",
              "    }\n",
              "\n",
              "    .dataframe thead th {\n",
              "        text-align: right;\n",
              "    }\n",
              "</style>\n",
              "<table border=\"1\" class=\"dataframe\">\n",
              "  <thead>\n",
              "    <tr style=\"text-align: right;\">\n",
              "      <th></th>\n",
              "      <th>Item_Weight</th>\n",
              "      <th>Item_Visibility</th>\n",
              "      <th>Item_MRP</th>\n",
              "      <th>Outlet_Establishment_Year</th>\n",
              "      <th>Item_Outlet_Sales</th>\n",
              "      <th>Profit</th>\n",
              "    </tr>\n",
              "  </thead>\n",
              "  <tbody>\n",
              "    <tr>\n",
              "      <th>count</th>\n",
              "      <td>8.523000e+03</td>\n",
              "      <td>8523.000000</td>\n",
              "      <td>8523.000000</td>\n",
              "      <td>8523.000000</td>\n",
              "      <td>8523.000000</td>\n",
              "      <td>8523.000000</td>\n",
              "    </tr>\n",
              "    <tr>\n",
              "      <th>mean</th>\n",
              "      <td>-2.142413e-14</td>\n",
              "      <td>0.180501</td>\n",
              "      <td>-0.018521</td>\n",
              "      <td>-0.068714</td>\n",
              "      <td>0.170688</td>\n",
              "      <td>-0.422162</td>\n",
              "    </tr>\n",
              "    <tr>\n",
              "      <th>std</th>\n",
              "      <td>6.939810e-01</td>\n",
              "      <td>0.763329</td>\n",
              "      <td>0.677824</td>\n",
              "      <td>0.492456</td>\n",
              "      <td>0.752741</td>\n",
              "      <td>1.479861</td>\n",
              "    </tr>\n",
              "    <tr>\n",
              "      <th>min</th>\n",
              "      <td>-1.468772e+00</td>\n",
              "      <td>-0.797844</td>\n",
              "      <td>-1.212847</td>\n",
              "      <td>-0.823529</td>\n",
              "      <td>-0.776799</td>\n",
              "      <td>-12.000000</td>\n",
              "    </tr>\n",
              "    <tr>\n",
              "      <th>25%</th>\n",
              "      <td>-4.561937e-01</td>\n",
              "      <td>-0.398567</td>\n",
              "      <td>-0.532390</td>\n",
              "      <td>-0.705882</td>\n",
              "      <td>-0.423495</td>\n",
              "      <td>-0.652174</td>\n",
              "    </tr>\n",
              "    <tr>\n",
              "      <th>50%</th>\n",
              "      <td>0.000000e+00</td>\n",
              "      <td>0.000000</td>\n",
              "      <td>0.000000</td>\n",
              "      <td>0.000000</td>\n",
              "      <td>0.000000</td>\n",
              "      <td>0.000000</td>\n",
              "    </tr>\n",
              "    <tr>\n",
              "      <th>75%</th>\n",
              "      <td>5.438063e-01</td>\n",
              "      <td>0.601433</td>\n",
              "      <td>0.467610</td>\n",
              "      <td>0.294118</td>\n",
              "      <td>0.576505</td>\n",
              "      <td>0.347826</td>\n",
              "    </tr>\n",
              "    <tr>\n",
              "      <th>max</th>\n",
              "      <td>1.216762e+00</td>\n",
              "      <td>4.060311</td>\n",
              "      <td>1.352205</td>\n",
              "      <td>0.588235</td>\n",
              "      <td>4.981204</td>\n",
              "      <td>8.782609</td>\n",
              "    </tr>\n",
              "  </tbody>\n",
              "</table>\n",
              "</div>"
            ],
            "text/plain": [
              "        Item_Weight  Item_Visibility  ...  Item_Outlet_Sales       Profit\n",
              "count  8.523000e+03      8523.000000  ...        8523.000000  8523.000000\n",
              "mean  -2.142413e-14         0.180501  ...           0.170688    -0.422162\n",
              "std    6.939810e-01         0.763329  ...           0.752741     1.479861\n",
              "min   -1.468772e+00        -0.797844  ...          -0.776799   -12.000000\n",
              "25%   -4.561937e-01        -0.398567  ...          -0.423495    -0.652174\n",
              "50%    0.000000e+00         0.000000  ...           0.000000     0.000000\n",
              "75%    5.438063e-01         0.601433  ...           0.576505     0.347826\n",
              "max    1.216762e+00         4.060311  ...           4.981204     8.782609\n",
              "\n",
              "[8 rows x 6 columns]"
            ]
          },
          "metadata": {},
          "execution_count": 92
        }
      ]
    },
    {
      "cell_type": "code",
      "source": [
        "o_datars=mm.inverse_transform(numdata_rs)\n",
        "o_datars=pd.DataFrame(o_datars,columns=numdata_rs.columns)"
      ],
      "metadata": {
        "id": "Z_f5DrPyDa7D"
      },
      "execution_count": null,
      "outputs": []
    },
    {
      "cell_type": "code",
      "source": [
        "#feature selection \n",
        "# dropping a column\n",
        "# F1 - F2 > 75%"
      ],
      "metadata": {
        "id": "M7ikiq24E_7Q"
      },
      "execution_count": null,
      "outputs": []
    },
    {
      "cell_type": "code",
      "source": [
        "dataplot=sb.heatmap(numdata_rs.corr(),cmap=\"YlGnBu\",annot=True)"
      ],
      "metadata": {
        "colab": {
          "base_uri": "https://localhost:8080/",
          "height": 392
        },
        "id": "DF8glT90F9nk",
        "outputId": "ab4e1a84-2fc9-4a19-d0d3-70786b81140b"
      },
      "execution_count": null,
      "outputs": [
        {
          "output_type": "display_data",
          "data": {
            "image/png": "[encoded data removed]",
            "text/plain": [
              "<Figure size 432x288 with 2 Axes>"
            ]
          },
          "metadata": {
            "needs_background": "light"
          }
        }
      ]
    },
    {
      "cell_type": "code",
      "source": [
        "for i in num_data.columns:\n",
        "  sb.boxplot(num_data[i])\n",
        "  plt.show()"
      ],
      "metadata": {
        "colab": {
          "base_uri": "https://localhost:8080/",
          "height": 1000
        },
        "id": "pLoVW_s0yoDS",
        "outputId": "bdd89984-b2f4-4515-c4c2-52028ecbd918"
      },
      "execution_count": null,
      "outputs": [
        {
          "output_type": "display_data",
          "data": {
            "image/png": "[encoded data removed]",
            "text/plain": [
              "<Figure size 432x288 with 1 Axes>"
            ]
          },
          "metadata": {
            "needs_background": "light"
          }
        },
        {
          "output_type": "display_data",
          "data": {
            "image/png": "[encoded data removed]",
            "text/plain": [
              "<Figure size 432x288 with 1 Axes>"
            ]
          },
          "metadata": {
            "needs_background": "light"
          }
        },
        {
          "output_type": "display_data",
          "data": {
            "image/png": "[encoded data removed]",
            "text/plain": [
              "<Figure size 432x288 with 1 Axes>"
            ]
          },
          "metadata": {
            "needs_background": "light"
          }
        },
        {
          "output_type": "display_data",
          "data": {
            "image/png": "[encoded data removed]",
            "text/plain": [
              "<Figure size 432x288 with 1 Axes>"
            ]
          },
          "metadata": {
            "needs_background": "light"
          }
        },
        {
          "output_type": "display_data",
          "data": {
            "image/png": "[encoded data removed]",
            "text/plain": [
              "<Figure size 432x288 with 1 Axes>"
            ]
          },
          "metadata": {
            "needs_background": "light"
          }
        },
        {
          "output_type": "display_data",
          "data": {
            "image/png": "[encoded data removed]",
            "text/plain": [
              "<Figure size 432x288 with 1 Axes>"
            ]
          },
          "metadata": {
            "needs_background": "light"
          }
        }
      ]
    },
    {
      "cell_type": "code",
      "source": [
        "num_datamm.describe()"
      ],
      "metadata": {
        "colab": {
          "base_uri": "https://localhost:8080/",
          "height": 300
        },
        "id": "5ofnsXB2zhoY",
        "outputId": "6208bffd-1f2c-41fb-d339-9546fc4e3411"
      },
      "execution_count": null,
      "outputs": [
        {
          "output_type": "execute_result",
          "data": {
            "text/html": [
              "<div>\n",
              "<style scoped>\n",
              "    .dataframe tbody tr th:only-of-type {\n",
              "        vertical-align: middle;\n",
              "    }\n",
              "\n",
              "    .dataframe tbody tr th {\n",
              "        vertical-align: top;\n",
              "    }\n",
              "\n",
              "    .dataframe thead th {\n",
              "        text-align: right;\n",
              "    }\n",
              "</style>\n",
              "<table border=\"1\" class=\"dataframe\">\n",
              "  <thead>\n",
              "    <tr style=\"text-align: right;\">\n",
              "      <th></th>\n",
              "      <th>Item_Weight</th>\n",
              "      <th>Item_Visibility</th>\n",
              "      <th>Item_MRP</th>\n",
              "      <th>Outlet_Establishment_Year</th>\n",
              "      <th>Item_Outlet_Sales</th>\n",
              "      <th>Profit</th>\n",
              "    </tr>\n",
              "  </thead>\n",
              "  <tbody>\n",
              "    <tr>\n",
              "      <th>count</th>\n",
              "      <td>8523.000000</td>\n",
              "      <td>8523.000000</td>\n",
              "      <td>8523.000000</td>\n",
              "      <td>8523.000000</td>\n",
              "      <td>8523.000000</td>\n",
              "      <td>8523.000000</td>\n",
              "    </tr>\n",
              "    <tr>\n",
              "      <th>mean</th>\n",
              "      <td>0.546920</td>\n",
              "      <td>0.201382</td>\n",
              "      <td>0.465615</td>\n",
              "      <td>0.534661</td>\n",
              "      <td>0.164551</td>\n",
              "      <td>0.557093</td>\n",
              "    </tr>\n",
              "    <tr>\n",
              "      <th>std</th>\n",
              "      <td>0.258414</td>\n",
              "      <td>0.157123</td>\n",
              "      <td>0.264253</td>\n",
              "      <td>0.348823</td>\n",
              "      <td>0.130729</td>\n",
              "      <td>0.071207</td>\n",
              "    </tr>\n",
              "    <tr>\n",
              "      <th>min</th>\n",
              "      <td>0.000000</td>\n",
              "      <td>0.000000</td>\n",
              "      <td>0.000000</td>\n",
              "      <td>0.000000</td>\n",
              "      <td>0.000000</td>\n",
              "      <td>0.000000</td>\n",
              "    </tr>\n",
              "    <tr>\n",
              "      <th>25%</th>\n",
              "      <td>0.377049</td>\n",
              "      <td>0.082187</td>\n",
              "      <td>0.265280</td>\n",
              "      <td>0.083333</td>\n",
              "      <td>0.061359</td>\n",
              "      <td>0.546025</td>\n",
              "    </tr>\n",
              "    <tr>\n",
              "      <th>50%</th>\n",
              "      <td>0.546920</td>\n",
              "      <td>0.164228</td>\n",
              "      <td>0.472835</td>\n",
              "      <td>0.583333</td>\n",
              "      <td>0.134908</td>\n",
              "      <td>0.577406</td>\n",
              "    </tr>\n",
              "    <tr>\n",
              "      <th>75%</th>\n",
              "      <td>0.749415</td>\n",
              "      <td>0.288026</td>\n",
              "      <td>0.655136</td>\n",
              "      <td>0.791667</td>\n",
              "      <td>0.235030</td>\n",
              "      <td>0.594142</td>\n",
              "    </tr>\n",
              "    <tr>\n",
              "      <th>max</th>\n",
              "      <td>1.000000</td>\n",
              "      <td>1.000000</td>\n",
              "      <td>1.000000</td>\n",
              "      <td>1.000000</td>\n",
              "      <td>1.000000</td>\n",
              "      <td>1.000000</td>\n",
              "    </tr>\n",
              "  </tbody>\n",
              "</table>\n",
              "</div>"
            ],
            "text/plain": [
              "       Item_Weight  Item_Visibility  ...  Item_Outlet_Sales       Profit\n",
              "count  8523.000000      8523.000000  ...        8523.000000  8523.000000\n",
              "mean      0.546920         0.201382  ...           0.164551     0.557093\n",
              "std       0.258414         0.157123  ...           0.130729     0.071207\n",
              "min       0.000000         0.000000  ...           0.000000     0.000000\n",
              "25%       0.377049         0.082187  ...           0.061359     0.546025\n",
              "50%       0.546920         0.164228  ...           0.134908     0.577406\n",
              "75%       0.749415         0.288026  ...           0.235030     0.594142\n",
              "max       1.000000         1.000000  ...           1.000000     1.000000\n",
              "\n",
              "[8 rows x 6 columns]"
            ]
          },
          "metadata": {},
          "execution_count": 97
        }
      ]
    },
    {
      "cell_type": "code",
      "source": [
        "sb.boxplot(numdata_rs['Item_Visibility'])"
      ],
      "metadata": {
        "colab": {
          "base_uri": "https://localhost:8080/",
          "height": 297
        },
        "id": "xbIfww6FzukS",
        "outputId": "7cf1fed5-077c-4138-e952-66b90bb0561d"
      },
      "execution_count": null,
      "outputs": [
        {
          "output_type": "execute_result",
          "data": {
            "text/plain": [
              "<matplotlib.axes._subplots.AxesSubplot at 0x7f6b8b35acd0>"
            ]
          },
          "metadata": {},
          "execution_count": 98
        },
        {
          "output_type": "display_data",
          "data": {
            "image/png": "[encoded data removed]",
            "text/plain": [
              "<Figure size 432x288 with 1 Axes>"
            ]
          },
          "metadata": {
            "needs_background": "light"
          }
        }
      ]
    },
    {
      "cell_type": "code",
      "source": [
        "for i in num_data.columns:\n",
        "  print(i)\n",
        "  plt.subplot(1,2,1)\n",
        "  num_data[i].plot(kind='kde')\n",
        "  plt.subplot(1,2,2)\n",
        "  num_datamm[i].plot(kind='kde')\n",
        "  plt.show()"
      ],
      "metadata": {
        "colab": {
          "base_uri": "https://localhost:8080/",
          "height": 1000
        },
        "id": "vJ_z2mUB1SHu",
        "outputId": "9abd138e-408d-45d0-88db-9c0a9bce0168"
      },
      "execution_count": null,
      "outputs": [
        {
          "output_type": "stream",
          "name": "stdout",
          "text": [
            "Item_Weight\n"
          ]
        },
        {
          "output_type": "display_data",
          "data": {
            "image/png": "[encoded data removed]",
            "text/plain": [
              "<Figure size 432x288 with 2 Axes>"
            ]
          },
          "metadata": {
            "needs_background": "light"
          }
        },
        {
          "output_type": "stream",
          "name": "stdout",
          "text": [
            "Item_Visibility\n"
          ]
        },
        {
          "output_type": "display_data",
          "data": {
            "image/png": "[encoded data removed]",
            "text/plain": [
              "<Figure size 432x288 with 2 Axes>"
            ]
          },
          "metadata": {
            "needs_background": "light"
          }
        },
        {
          "output_type": "stream",
          "name": "stdout",
          "text": [
            "Item_MRP\n"
          ]
        },
        {
          "output_type": "display_data",
          "data": {
            "image/png": "[encoded data removed]",
            "text/plain": [
              "<Figure size 432x288 with 2 Axes>"
            ]
          },
          "metadata": {
            "needs_background": "light"
          }
        },
        {
          "output_type": "stream",
          "name": "stdout",
          "text": [
            "Outlet_Establishment_Year\n"
          ]
        },
        {
          "output_type": "display_data",
          "data": {
            "image/png": "[encoded data removed]",
            "text/plain": [
              "<Figure size 432x288 with 2 Axes>"
            ]
          },
          "metadata": {
            "needs_background": "light"
          }
        },
        {
          "output_type": "stream",
          "name": "stdout",
          "text": [
            "Item_Outlet_Sales\n"
          ]
        },
        {
          "output_type": "display_data",
          "data": {
            "image/png": "[encoded data removed]",
            "text/plain": [
              "<Figure size 432x288 with 2 Axes>"
            ]
          },
          "metadata": {
            "needs_background": "light"
          }
        },
        {
          "output_type": "stream",
          "name": "stdout",
          "text": [
            "Profit\n"
          ]
        },
        {
          "output_type": "display_data",
          "data": {
            "image/png": "[encoded data removed]",
            "text/plain": [
              "<Figure size 432x288 with 2 Axes>"
            ]
          },
          "metadata": {
            "needs_background": "light"
          }
        }
      ]
    },
    {
      "cell_type": "code",
      "source": [
        "#normalizer\n",
        "#works on observation\n",
        "#entire feature"
      ],
      "metadata": {
        "id": "2_R87xaJ3IE_"
      },
      "execution_count": null,
      "outputs": []
    },
    {
      "cell_type": "code",
      "source": [
        "from sklearn.preprocessing import Normalizer\n",
        "normalize=Normalizer()\n",
        "num_datanorm=normalize.fit_transform(num_data)\n",
        "num_datanorm=pd.DataFrame(num_datanorm,columns=num_data.columns)"
      ],
      "metadata": {
        "id": "JKndmImR0eGm"
      },
      "execution_count": null,
      "outputs": []
    },
    {
      "cell_type": "code",
      "source": [
        "for i in num_data.columns:\n",
        "  print(i)\n",
        "  plt.subplot(1,2,1)\n",
        "  num_data[i].plot(kind='kde')\n",
        "  plt.subplot(1,2,2)\n",
        "  num_datanorm[i].plot(kind='kde')\n",
        "  plt.show()"
      ],
      "metadata": {
        "colab": {
          "base_uri": "https://localhost:8080/",
          "height": 1000
        },
        "id": "PQ0MlSog5Ero",
        "outputId": "a4906620-e7dc-4301-b824-68499f1de8ec"
      },
      "execution_count": null,
      "outputs": [
        {
          "output_type": "stream",
          "name": "stdout",
          "text": [
            "Item_Weight\n"
          ]
        },
        {
          "output_type": "display_data",
          "data": {
            "image/png": "[encoded data removed]",
            "text/plain": [
              "<Figure size 432x288 with 2 Axes>"
            ]
          },
          "metadata": {
            "needs_background": "light"
          }
        },
        {
          "output_type": "stream",
          "name": "stdout",
          "text": [
            "Item_Visibility\n"
          ]
        },
        {
          "output_type": "display_data",
          "data": {
            "image/png": "[encoded data removed]",
            "text/plain": [
              "<Figure size 432x288 with 2 Axes>"
            ]
          },
          "metadata": {
            "needs_background": "light"
          }
        },
        {
          "output_type": "stream",
          "name": "stdout",
          "text": [
            "Item_MRP\n"
          ]
        },
        {
          "output_type": "display_data",
          "data": {
            "image/png": "[encoded data removed]",
            "text/plain": [
              "<Figure size 432x288 with 2 Axes>"
            ]
          },
          "metadata": {
            "needs_background": "light"
          }
        },
        {
          "output_type": "stream",
          "name": "stdout",
          "text": [
            "Outlet_Establishment_Year\n"
          ]
        },
        {
          "output_type": "display_data",
          "data": {
            "image/png": "[encoded data removed]",
            "text/plain": [
              "<Figure size 432x288 with 2 Axes>"
            ]
          },
          "metadata": {
            "needs_background": "light"
          }
        },
        {
          "output_type": "stream",
          "name": "stdout",
          "text": [
            "Item_Outlet_Sales\n"
          ]
        },
        {
          "output_type": "display_data",
          "data": {
            "image/png": "[encoded data removed]",
            "text/plain": [
              "<Figure size 432x288 with 2 Axes>"
            ]
          },
          "metadata": {
            "needs_background": "light"
          }
        },
        {
          "output_type": "stream",
          "name": "stdout",
          "text": [
            "Profit\n"
          ]
        },
        {
          "output_type": "display_data",
          "data": {
            "image/png": "[encoded data removed]",
            "text/plain": [
              "<Figure size 432x288 with 2 Axes>"
            ]
          },
          "metadata": {
            "needs_background": "light"
          }
        }
      ]
    },
    {
      "cell_type": "code",
      "source": [
        "num_datanorm.describe()"
      ],
      "metadata": {
        "colab": {
          "base_uri": "https://localhost:8080/",
          "height": 300
        },
        "id": "KEBMDJ6r5T3k",
        "outputId": "267f1941-8c95-435c-ccb2-d69a426bef70"
      },
      "execution_count": null,
      "outputs": [
        {
          "output_type": "execute_result",
          "data": {
            "text/html": [
              "<div>\n",
              "<style scoped>\n",
              "    .dataframe tbody tr th:only-of-type {\n",
              "        vertical-align: middle;\n",
              "    }\n",
              "\n",
              "    .dataframe tbody tr th {\n",
              "        vertical-align: top;\n",
              "    }\n",
              "\n",
              "    .dataframe thead th {\n",
              "        text-align: right;\n",
              "    }\n",
              "</style>\n",
              "<table border=\"1\" class=\"dataframe\">\n",
              "  <thead>\n",
              "    <tr style=\"text-align: right;\">\n",
              "      <th></th>\n",
              "      <th>Item_Weight</th>\n",
              "      <th>Item_Visibility</th>\n",
              "      <th>Item_MRP</th>\n",
              "      <th>Outlet_Establishment_Year</th>\n",
              "      <th>Item_Outlet_Sales</th>\n",
              "      <th>Profit</th>\n",
              "    </tr>\n",
              "  </thead>\n",
              "  <tbody>\n",
              "    <tr>\n",
              "      <th>count</th>\n",
              "      <td>8523.000000</td>\n",
              "      <td>8523.000000</td>\n",
              "      <td>8523.000000</td>\n",
              "      <td>8523.000000</td>\n",
              "      <td>8523.000000</td>\n",
              "      <td>8523.000000</td>\n",
              "    </tr>\n",
              "    <tr>\n",
              "      <th>mean</th>\n",
              "      <td>0.004189</td>\n",
              "      <td>0.000024</td>\n",
              "      <td>0.046621</td>\n",
              "      <td>0.716082</td>\n",
              "      <td>0.602572</td>\n",
              "      <td>0.004807</td>\n",
              "    </tr>\n",
              "    <tr>\n",
              "      <th>std</th>\n",
              "      <td>0.002391</td>\n",
              "      <td>0.000023</td>\n",
              "      <td>0.020940</td>\n",
              "      <td>0.216582</td>\n",
              "      <td>0.273091</td>\n",
              "      <td>0.001585</td>\n",
              "    </tr>\n",
              "    <tr>\n",
              "      <th>min</th>\n",
              "      <td>0.000000</td>\n",
              "      <td>0.000000</td>\n",
              "      <td>0.013603</td>\n",
              "      <td>0.149939</td>\n",
              "      <td>0.016657</td>\n",
              "      <td>0.000031</td>\n",
              "    </tr>\n",
              "    <tr>\n",
              "      <th>25%</th>\n",
              "      <td>0.002523</td>\n",
              "      <td>0.000009</td>\n",
              "      <td>0.031903</td>\n",
              "      <td>0.540934</td>\n",
              "      <td>0.384746</td>\n",
              "      <td>0.003559</td>\n",
              "    </tr>\n",
              "    <tr>\n",
              "      <th>50%</th>\n",
              "      <td>0.003953</td>\n",
              "      <td>0.000018</td>\n",
              "      <td>0.042677</td>\n",
              "      <td>0.743505</td>\n",
              "      <td>0.666504</td>\n",
              "      <td>0.004953</td>\n",
              "    </tr>\n",
              "    <tr>\n",
              "      <th>75%</th>\n",
              "      <td>0.005815</td>\n",
              "      <td>0.000033</td>\n",
              "      <td>0.056588</td>\n",
              "      <td>0.922373</td>\n",
              "      <td>0.839675</td>\n",
              "      <td>0.006183</td>\n",
              "    </tr>\n",
              "    <tr>\n",
              "      <th>max</th>\n",
              "      <td>0.010624</td>\n",
              "      <td>0.000161</td>\n",
              "      <td>0.131172</td>\n",
              "      <td>0.999701</td>\n",
              "      <td>0.988535</td>\n",
              "      <td>0.011045</td>\n",
              "    </tr>\n",
              "  </tbody>\n",
              "</table>\n",
              "</div>"
            ],
            "text/plain": [
              "       Item_Weight  Item_Visibility  ...  Item_Outlet_Sales       Profit\n",
              "count  8523.000000      8523.000000  ...        8523.000000  8523.000000\n",
              "mean      0.004189         0.000024  ...           0.602572     0.004807\n",
              "std       0.002391         0.000023  ...           0.273091     0.001585\n",
              "min       0.000000         0.000000  ...           0.016657     0.000031\n",
              "25%       0.002523         0.000009  ...           0.384746     0.003559\n",
              "50%       0.003953         0.000018  ...           0.666504     0.004953\n",
              "75%       0.005815         0.000033  ...           0.839675     0.006183\n",
              "max       0.010624         0.000161  ...           0.988535     0.011045\n",
              "\n",
              "[8 rows x 6 columns]"
            ]
          },
          "metadata": {},
          "execution_count": 113
        }
      ]
    }
  ]
}